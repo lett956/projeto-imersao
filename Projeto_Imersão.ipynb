{
  "nbformat": 4,
  "nbformat_minor": 0,
  "metadata": {
    "colab": {
      "provenance": [],
      "authorship_tag": "ABX9TyPFJ8AE8aftzqT15g3H5vVa",
      "include_colab_link": true
    },
    "kernelspec": {
      "name": "python3",
      "display_name": "Python 3"
    },
    "language_info": {
      "name": "python"
    }
  },
  "cells": [
    {
      "cell_type": "markdown",
      "metadata": {
        "id": "view-in-github",
        "colab_type": "text"
      },
      "source": [
        "<a href=\"https://colab.research.google.com/github/lett956/projeto-imersao/blob/main/Projeto_Imers%C3%A3o.ipynb\" target=\"_parent\"><img src=\"https://colab.research.google.com/assets/colab-badge.svg\" alt=\"Open In Colab\"/></a>"
      ]
    },
    {
      "cell_type": "code",
      "execution_count": 36,
      "metadata": {
        "id": "wR_4iWqvdYFJ"
      },
      "outputs": [],
      "source": [
        "!pip install -q -U google-generativeai"
      ]
    },
    {
      "cell_type": "code",
      "source": [
        "import google.generativeai as genai\n",
        "from google.colab import userdata\n",
        "\n",
        "api_key = userdata.get('SECRET_KEY')\n",
        "genai.configure(api_key=api_key)"
      ],
      "metadata": {
        "id": "jcOgt1xcdeTO"
      },
      "execution_count": 50,
      "outputs": []
    },
    {
      "cell_type": "code",
      "source": [
        "generation_config = {\n",
        "    \"candidate_count\": 1,\n",
        "    \"temperature\": 0.5,\n",
        "}"
      ],
      "metadata": {
        "id": "cE-7QsHTjy0V"
      },
      "execution_count": 38,
      "outputs": []
    },
    {
      "cell_type": "code",
      "source": [
        "safety_settings = {\n",
        "    \"HARASSMENT\": \"BLOCK_NONE\",\n",
        "    \"HATE\": \"BLOCK_NONE\",\n",
        "    \"SEXUAL\": \"BLOCK_NONE\",\n",
        "    \"DANGEROUS\": \"BLOCK_NONE\"\n",
        "}"
      ],
      "metadata": {
        "id": "5lTJtfMkjt9D"
      },
      "execution_count": 39,
      "outputs": []
    },
    {
      "cell_type": "code",
      "source": [
        "model = genai.GenerativeModel(model_name=\"gemini-1.0-pro\",\n",
        "                              generation_config=generation_config,\n",
        "                              safety_settings=safety_settings)"
      ],
      "metadata": {
        "id": "8cyBpqiJj4WF"
      },
      "execution_count": 40,
      "outputs": []
    },
    {
      "cell_type": "code",
      "source": [
        "chat = model.start_chat(history=[])"
      ],
      "metadata": {
        "id": "Z45Klxlfj5Da"
      },
      "execution_count": 42,
      "outputs": []
    },
    {
      "cell_type": "code",
      "source": [
        "def solicitar_nome():\n",
        "    nome = input(\"Olá! Por favor, digite seu nome: \")\n",
        "    return nome"
      ],
      "metadata": {
        "id": "ntBiz5mTxfn9"
      },
      "execution_count": 68,
      "outputs": []
    },
    {
      "cell_type": "code",
      "source": [
        "def apresentar_mensagem_boas_vindas(nome):\n",
        "    mensagem = f\"Olá {nome}, seja bem-vindo(a) ao seu tutor virtual personalizado!\\n\"\n",
        "    mensagem += \"Estou aqui para te ajudar a aprender de forma personalizada e eficaz.\\n\"\n",
        "    mensagem += \"Como posso ajudá-lo(a) hoje?\\n\"\n",
        "    return mensagem"
      ],
      "metadata": {
        "id": "tPV2sUA9xhuW"
      },
      "execution_count": 69,
      "outputs": []
    },
    {
      "cell_type": "code",
      "source": [
        "def menu():\n",
        "    while True:\n",
        "        # Apresentar opções do menu\n",
        "        print(\"\\nOpções disponíveis:\")\n",
        "        print(\"1. Avaliar conhecimentos\")\n",
        "        print(\"2. Criar plano de aprendizado\")\n",
        "        print(\"3. Responder dúvidas\")\n",
        "        print(\"4. Sair\")\n",
        "\n",
        "        # Solicitar escolha do usuário\n",
        "        opcao = input(\"\\nPor favor, selecione uma das opções acima (digite o número correspondente): \")\n",
        "\n",
        "        # Executar a opção escolhida\n",
        "        if opcao == \"1\":\n",
        "            avaliar_conhecimentos()\n",
        "        elif opcao == \"2\":\n",
        "            criar_plano_aprendizado()\n",
        "        elif opcao == \"3\":\n",
        "            responder_duvidas()\n",
        "        elif opcao == \"4\":\n",
        "            print(\"Saindo do programa...\")\n",
        "            break\n",
        "        else:\n",
        "            print(\"Opção inválida. Por favor, selecione uma das opções disponíveis.\")"
      ],
      "metadata": {
        "id": "pktj19e_xbI9"
      },
      "execution_count": 70,
      "outputs": []
    },
    {
      "cell_type": "code",
      "source": [
        "def avaliar_conhecimentos():\n",
        "    # Perguntar ao usuário qual o assunto que ele deseja avaliar\n",
        "    assunto = input(\"\\nQual assunto você deseja avaliar seus conhecimentos prévios? \")\n",
        "\n",
        "    # Perguntar ao usuário quantas perguntas ele deseja responder\n",
        "    num_perguntas = int(input(\"Quantas perguntas você deseja responder sobre este assunto? \"))\n",
        "\n",
        "    # Gerar as perguntas sobre o assunto utilizando o GenAI\n",
        "    respostas_corretas = 0\n",
        "\n",
        "    for i in range(1, num_perguntas + 1):\n",
        "        pergunta = chat.send_message(f\"Gere uma pergunta sobre {assunto} (Pergunta {i})\").text\n",
        "\n",
        "        # Apresentar pergunta ao usuário\n",
        "        print(f\"\\nPergunta {i}: {pergunta}\")\n",
        "\n",
        "        # Solicitar resposta ao usuário\n",
        "        resposta_usuario = input(\"Resposta: \").strip()\n",
        "\n",
        "        # Enviar a pergunta e a resposta do usuário para a IA verificar se está correta\n",
        "        mensagem_para_IA = f\"Pergunta: {pergunta}\\nResposta do usuário: {resposta_usuario}\\nPor favor, verifique se a resposta está correta e retorne 'correta' se sim. Caso contrário, forneça uma explicação do motivo do erro.\"\n",
        "        resposta_IA = chat.send_message(mensagem_para_IA).text\n",
        "\n",
        "        # Verificar se a resposta da IA indica que está correta\n",
        "        if resposta_IA == \"correta\":\n",
        "            respostas_corretas += 1\n",
        "            print(\"Resposta correta!\")\n",
        "        else:\n",
        "            print(\"Resposta incorreta. Motivo:\", resposta_IA)\n",
        "\n",
        "    # Mostrar o resultado\n",
        "    print(\"\\nAvaliação concluída!\")\n",
        "    print(f\"Você acertou {respostas_corretas} de {num_perguntas} perguntas sobre {assunto}.\")\n"
      ],
      "metadata": {
        "id": "uKPcSU8KurvW"
      },
      "execution_count": 73,
      "outputs": []
    },
    {
      "cell_type": "code",
      "source": [
        "def criar_plano_aprendizado():\n",
        "    # Perguntar ao aluno sobre o conteúdo desejado para o plano de aprendizado\n",
        "    conteudo = input(\"\\nPara qual conteúdo você deseja criar um plano de aprendizado? \")\n",
        "\n",
        "    # Gerar o plano de aprendizado utilizando a IA\n",
        "    plano_aprendizado = chat.send_message(f\"Gere um plano de aprendizado para {conteudo}\").text\n",
        "\n",
        "    # Apresentar o plano de aprendizado ao aluno\n",
        "    print(\"\\nPlano de Aprendizado:\")\n",
        "    print(plano_aprendizado)\n"
      ],
      "metadata": {
        "id": "7kP8K1OXy8dY"
      },
      "execution_count": 75,
      "outputs": []
    },
    {
      "cell_type": "code",
      "source": [
        "def responder_duvidas():\n",
        "    # Solicitar a dúvida do aluno\n",
        "    duvida = input(\"\\nQual é a sua dúvida? \")\n",
        "\n",
        "    # Obter a resposta da IA para a dúvida do aluno\n",
        "    resposta_IA = chat.send_message(duvida).text\n",
        "\n",
        "    # Apresentar a resposta ao aluno\n",
        "    print(\"\\nResposta:\")\n",
        "    print(resposta_IA)"
      ],
      "metadata": {
        "id": "kPtE1TiZ0grk"
      },
      "execution_count": 78,
      "outputs": []
    },
    {
      "cell_type": "code",
      "source": [
        "nome = solicitar_nome()\n",
        "print(apresentar_mensagem_boas_vindas(nome))\n",
        "menu()"
      ],
      "metadata": {
        "colab": {
          "base_uri": "https://localhost:8080/"
        },
        "id": "WjHJfOIBy89S",
        "outputId": "f19d3695-125d-4151-e40c-bacb1d3423df"
      },
      "execution_count": 83,
      "outputs": [
        {
          "output_type": "stream",
          "name": "stdout",
          "text": [
            "Olá! Por favor, digite seu nome: Yuri\n",
            "Olá Yuri, seja bem-vindo(a) ao seu tutor virtual personalizado!\n",
            "Estou aqui para te ajudar a aprender de forma personalizada e eficaz.\n",
            "Como posso ajudá-lo(a) hoje?\n",
            "\n",
            "\n",
            "Opções disponíveis:\n",
            "1. Avaliar conhecimentos\n",
            "2. Criar plano de aprendizado\n",
            "3. Responder dúvidas\n",
            "4. Sair\n",
            "\n",
            "Por favor, selecione uma das opções acima (digite o número correspondente): 4\n",
            "Saindo do programa...\n"
          ]
        }
      ]
    }
  ]
}