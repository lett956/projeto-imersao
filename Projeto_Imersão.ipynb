{
  "nbformat": 4,
  "nbformat_minor": 0,
  "metadata": {
    "colab": {
      "provenance": [],
      "authorship_tag": "ABX9TyNWaPK9OvQlO8iHYAxJRN0T",
      "include_colab_link": true
    },
    "kernelspec": {
      "name": "python3",
      "display_name": "Python 3"
    },
    "language_info": {
      "name": "python"
    }
  },
  "cells": [
    {
      "cell_type": "markdown",
      "metadata": {
        "id": "view-in-github",
        "colab_type": "text"
      },
      "source": [
        "<a href=\"https://colab.research.google.com/github/lett956/projeto-imersao/blob/main/Projeto_Imers%C3%A3o.ipynb\" target=\"_parent\"><img src=\"https://colab.research.google.com/assets/colab-badge.svg\" alt=\"Open In Colab\"/></a>"
      ]
    },
    {
      "cell_type": "code",
      "execution_count": null,
      "metadata": {
        "id": "wR_4iWqvdYFJ"
      },
      "outputs": [],
      "source": [
        "!pip install -q -U google-generativeai"
      ]
    },
    {
      "cell_type": "code",
      "source": [
        "import google.generativeai as genai\n",
        "from google.colab import userdata\n",
        "api_key = userdata.get('SECRET_KEY')\n",
        "genai.configure(api_key=api_key)\n",
        "import pandas as pd\n",
        "import matplotlib.pyplot as plt\n",
        "\n",
        "def boas_vindas(nome):\n",
        "    mensagem = f\"Olá {nome}, seja bem-vindo(a) ao seu tutor virtual personalizado!\\n\"\n",
        "    mensagem += \"Estou aqui para te ajudar a aprender de forma personalizada e eficaz.\\n\"\n",
        "    mensagem += \"Conte-me sobre seus objetivos de aprendizado e o que você já sabe sobre o assunto.\"\n",
        "    return mensagem\n",
        "\n",
        "nome_do_aluno = \"não sei\"\n",
        "\n",
        "mensagem_boas_vindas = boas_vindas(nome_do_aluno)\n",
        "print(mensagem_boas_vindas)\n",
        "\n"
      ],
      "metadata": {
        "colab": {
          "base_uri": "https://localhost:8080/"
        },
        "id": "jcOgt1xcdeTO",
        "outputId": "0f4ed2fb-d496-4abe-8937-cd06e7e14ab3"
      },
      "execution_count": 11,
      "outputs": [
        {
          "output_type": "stream",
          "name": "stdout",
          "text": [
            "Olá não sei, seja bem-vindo(a) ao seu tutor virtual personalizado!\n",
            "Estou aqui para te ajudar a aprender de forma personalizada e eficaz.\n",
            "Conte-me sobre seus objetivos de aprendizado e o que você já sabe sobre o assunto.\n"
          ]
        }
      ]
    },
    {
      "cell_type": "code",
      "source": [
        "# Função para avaliar conhecimentos prévios\n",
        "def avaliar_conhecimentos(prompt):\n",
        "  \"\"\"\n",
        "  Utiliza o GenAI para gerar perguntas sobre conhecimentos prévios e analisa as respostas.\n",
        "\n",
        "  Argumentos:\n",
        "    prompt (str): Prompt para gerar perguntas.\n",
        "\n",
        "  Retorno:\n",
        "    str: Resposta do GenAI com as perguntas.\n",
        "  \"\"\"\n",
        "  resposta = genai.generate(\n",
        "      prompt=prompt,\n",
        "      temperature=0.7,\n",
        "      max_tokens=100\n",
        "  )\n",
        "  # Utilize NLTK ou SpaCy para analisar as respostas do aluno aqui\n",
        "\n",
        "  return resposta"
      ],
      "metadata": {
        "id": "hGWwWShYgXnY"
      },
      "execution_count": 24,
      "outputs": []
    },
    {
      "cell_type": "code",
      "source": [
        "# Função para criar plano de aprendizado\n",
        "def criar_plano(objetivos, conhecimentos):\n",
        "  \"\"\"\n",
        "  Cria um plano de aprendizado personalizado com base nos objetivos e conhecimentos do aluno.\n",
        "\n",
        "  Argumentos:\n",
        "    objetivos (str): Descrição dos objetivos de aprendizado do aluno.\n",
        "    conhecimentos (str): Descrição dos conhecimentos prévios do aluno.\n",
        "\n",
        "  Retorno:\n",
        "    str: Plano de aprendizado personalizado.\n",
        "  \"\"\"\n",
        "  plano = f\"**Plano de Aprendizado Personalizado:**\\n\\n\"\n",
        "  # Utilize GenAI para gerar sugestões de atividades e materiais de estudo\n",
        "  # Personalize o plano com base nos objetivos e conhecimentos do aluno\n",
        "  plano += \" - Atividade 1:...\\n\"\n",
        "  plano += \" - Atividade 2:...\\n\"\n",
        "  plano += \" - ...\\n\\n\"\n",
        "  plano += \"**Lembre-se:** Este é apenas um plano inicial. Adapte-o ao seu ritmo e necessidades.\"\n",
        "  return plano"
      ],
      "metadata": {
        "id": "iapQGOzBgfEk"
      },
      "execution_count": 25,
      "outputs": []
    },
    {
      "cell_type": "code",
      "source": [
        "# Função para responder dúvidas\n",
        "def responder_duvidas(duvida):\n",
        "  \"\"\"\n",
        "  Utiliza o GenAI para gerar respostas para as dúvidas do aluno e analisa as respostas.\n",
        "\n",
        "  Argumentos:\n",
        "    duvida (str): Dúvida do aluno.\n",
        "\n",
        "  Retorno:\n",
        "    str: Resposta do GenAI para a dúvida.\n",
        "  \"\"\"\n",
        "  resposta = genai.generate(\n",
        "      prompt=duvida,\n",
        "      temperature=0.7,\n",
        "      max_tokens=200\n",
        "  )\n",
        "  # Utilize NLTK ou SpaCy para analisar a resposta do GenAI e torná-la mais precisa\n",
        "  # Personalize a resposta com base no conhecimento do aluno sobre o assunto\n",
        "\n",
        "  return resposta"
      ],
      "metadata": {
        "id": "mBkRApXhgpfr"
      },
      "execution_count": 26,
      "outputs": []
    },
    {
      "cell_type": "code",
      "source": [
        "# Função para avaliar o aprendizado\n",
        "def avaliar_aprendizado(topico):\n",
        "  \"\"\"\n",
        "  Cria uma avaliação para verificar o aprendizado do aluno sobre um tópico específico.\n",
        "\n",
        "  Argumentos:\n",
        "    topico (str): Tópico a ser avaliado.\n",
        "\n",
        "  Retorno:\n",
        "    str: Perguntas ou exercícios para avaliar o aprendizado.\n",
        "  \"\"\"\n",
        "  avaliacao = f\"**Avaliação do Aprendizado - {topico}**\\n\\n\"\n",
        "  # Utilize GenAI para gerar perguntas ou exercícios sobre o tópico\n",
        "  # Personalize a avaliação com base no nível de conhecimento do aluno\n",
        "\n",
        "  avaliacao += \" - Pergunta 1:...\\n\"\n",
        "  avaliacao += \" - Questão 2:...\\n\"\n",
        "  avaliacao += \" - ...\\n\\n\"\n",
        "  avaliacao += \"Responda às perguntas da melhor forma possível e me envie suas respostas.\"\n",
        "  return avaliacao"
      ],
      "metadata": {
        "id": "DDhOwRNqgu68"
      },
      "execution_count": 27,
      "outputs": []
    },
    {
      "cell_type": "code",
      "source": [
        "# Função para fornecer feedback\n",
        "def fornecer_feedback(resposta):\n",
        "  \"\"\"\n",
        "  Analisa a resposta do aluno na avaliação e fornece feedback personalizado.\n",
        "\n",
        "  Argumentos:\n",
        "    resposta (str): Resposta do aluno na avaliação.\n",
        "\n",
        "  Retorno:\n",
        "    str: Feedback personalizado sobre o desempenho do aluno.\n",
        "  \"\"\"\n",
        "  feedback = \"**Feedback da Avaliação:**\\n\\n\"\n",
        "  # Utilize NLTK ou SpaCy para analisar a resposta do aluno\n",
        "  # Identifique acertos e erros e forneça explicações detalhadas\n",
        "  # Incentive o aluno a continuar aprendendo e se aprimorando\n",
        "\n",
        "  feedback += \" - Parabéns por acertar a questão\""
      ],
      "metadata": {
        "id": "L9Lx7mAsgzMu"
      },
      "execution_count": 29,
      "outputs": []
    }
  ]
}